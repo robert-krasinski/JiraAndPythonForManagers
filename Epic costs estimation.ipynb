{
 "cells": [
  {
   "cell_type": "markdown",
   "metadata": {},
   "source": [
    "Work in progress..."
   ]
  },
  {
   "cell_type": "code",
   "execution_count": null,
   "metadata": {},
   "outputs": [],
   "source": [
    "import pandas as pd\n",
    "from jira import JIRA\n",
    "\n",
    "jira = JIRA('https://kainos-evolve.atlassian.net')\n",
    "jql = 'project=VXT and type=epic and status != Completed'\n",
    "\n",
    "epicsRaw = jira.search_issues(jql)\n",
    "\n",
    "epics = pd.DataFrame()\n",
    "epics['version'] = ''\n",
    "epics['key'] = ''\n",
    "epics['type'] = ''\n",
    "epics['status'] = ''\n",
    "epics['summary'] = ''\n",
    "\n",
    "#add epics to dataframe\n",
    "for issue in epicsRaw:\n",
    "    #issue may have many versions - in this approach, one version per issue is recommended\n",
    "    for fixVersion in issue.fields.fixVersions:\n",
    "        epics = epics.append(\n",
    "            {'version': fixVersion.name, \n",
    "             'key': issue.key,\n",
    "             'type': issue.fields.issuetype.name,\n",
    "             'status': issue.fields.status.name,\n",
    "             'summary': issue.fields.summary,\n",
    "            }, ignore_index=True)\n",
    "            \n",
    "epics"
   ]
  },
  {
   "cell_type": "code",
   "execution_count": null,
   "metadata": {},
   "outputs": [],
   "source": [
    "issues = pd.DataFrame()\n",
    "issues['version'] = ''\n",
    "issues['key'] = ''\n",
    "issues['type'] = ''\n",
    "issues['status'] = ''\n",
    "issues['SP'] = 0\n",
    "issues['summary'] = ''\n"
   ]
  },
  {
   "cell_type": "code",
   "execution_count": null,
   "metadata": {},
   "outputs": [],
   "source": []
  }
 ],
 "metadata": {
  "kernelspec": {
   "display_name": "Python 3",
   "language": "python",
   "name": "python3"
  },
  "language_info": {
   "codemirror_mode": {
    "name": "ipython",
    "version": 3
   },
   "file_extension": ".py",
   "mimetype": "text/x-python",
   "name": "python",
   "nbconvert_exporter": "python",
   "pygments_lexer": "ipython3",
   "version": "3.5.1"
  }
 },
 "nbformat": 4,
 "nbformat_minor": 2
}
