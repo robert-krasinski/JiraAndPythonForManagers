{
 "cells": [
  {
   "cell_type": "code",
   "execution_count": null,
   "metadata": {},
   "outputs": [],
   "source": [
    "import pandas as pd\n",
    "import json\n",
    "import requests\n",
    "from bs4 import BeautifulSoup\n",
    "\n",
    "pd.options.display.max_rows\n",
    "pd.set_option('display.max_colwidth', -1)\n",
    "\n",
    "\n",
    "wiki_url = 'https://kainos-evolve.atlassian.net'"
   ]
  },
  {
   "cell_type": "code",
   "execution_count": null,
   "metadata": {},
   "outputs": [],
   "source": [
    "def get_page_json(page_id):\n",
    "   \n",
    "    suffix = \"?expand=body.view\"\n",
    "\n",
    "    url= wiki_url + \"/wiki/rest/api/content/\" + page_id + suffix\n",
    "    response = requests.get(url, auth=('r.krasinski@kainos.com', 'J1raka1n0spass'))\n",
    "    response.encoding = \"utf8\"\n",
    "    #print(response.text)\n",
    "    return json.loads(response.text)\n"
   ]
  },
  {
   "cell_type": "code",
   "execution_count": null,
   "metadata": {},
   "outputs": [],
   "source": [
    "apps = pd.DataFrame()\n",
    "apps['wiki'] = ['https://kainos-evolve.atlassian.net/wiki/spaces/evolveIDCRdocs/pages/171507746/2.+PreOp+Assessment+Requirements+Gaps',\n",
    "               'https://kainos-evolve.atlassian.net/wiki/spaces/evolveIDCRdocs/pages/174653453/3.+eDischarge+Requirements+Gaps',\n",
    "'https://kainos-evolve.atlassian.net/wiki/spaces/evolveIDCRdocs/pages/173670499/1.+Stroke+Pathway+-+Inpatient',\n",
    "'https://kainos-evolve.atlassian.net/wiki/spaces/evolveIDCRdocs/pages/216301643/8.+Stroke+Pathway+-+Emergency',\n",
    "'https://kainos-evolve.atlassian.net/wiki/spaces/evolveIDCRdocs/pages/173310220/4.+Surgical+pathway+Requirements+Gaps',\n",
    "'https://kainos-evolve.atlassian.net/wiki/spaces/evolveIDCRdocs/pages/281182472/DRAFT+-+Heart+Failure+Encounter',\n",
    "'https://kainos-evolve.atlassian.net/wiki/spaces/evolveIDCRdocs/pages/196935816/DRAFT+-+Cardiology+Care+pathway+-+Heart+Failure']\n",
    "apps['name'] = ['PreOp Assessment', 'eDischarge', 'Stroke Pathway - Inpatient',\n",
    "'Stroke Pathway - Emergency',\n",
    "'Surgical/Theatres Workflow (Ops Note)',\n",
    "'Heart Failure Encounter (Novartis)',\n",
    "'Heart Failure Care Pathway']\n",
    "apps['id'] = [171507746, 174653453, 173670499, 216301643, 173310220, 281182472, 196935816]\n",
    "apps"
   ]
  },
  {
   "cell_type": "code",
   "execution_count": null,
   "metadata": {},
   "outputs": [],
   "source": [
    "tasks = pd.DataFrame()\n",
    "\n",
    "for pageId in apps['id']:\n",
    "    #get app wiki page by id\n",
    "    page = get_page_json(str(pageId))\n",
    "    body = page['body']['view']['value']\n",
    "    soup = BeautifulSoup(body, \"lxml\")\n",
    "    #find first list\n",
    "    taskList = soup.find(\"ul\")\n",
    "    #taskList.children\n",
    "\n",
    "    for task in taskList.children:\n",
    "        isChecked = False\n",
    "        if task.has_attr('class'):\n",
    "            if 'checked' in task.attrs['class']: isChecked = True\n",
    "        tasks = tasks.append(\n",
    "                {\n",
    "                 'id': pageId,\n",
    "                 'task': task.string,\n",
    "                 'isDone': isChecked\n",
    "                }, ignore_index=True)\n",
    "        #print('{} {}'.format(task.string, isChecked))\n",
    "\n"
   ]
  },
  {
   "cell_type": "code",
   "execution_count": null,
   "metadata": {},
   "outputs": [],
   "source": [
    "appTasks = apps.merge(tasks, left_on='id', right_on='id', how='left')\n",
    "appTasks"
   ]
  },
  {
   "cell_type": "code",
   "execution_count": null,
   "metadata": {},
   "outputs": [],
   "source": [
    "appProgress = appTasks.groupby(['name']).agg({'isDone':'sum', 'task': 'count'})\n",
    "appProgress['finishedPerc'] = round(appProgress.isDone / appProgress.task * 100, 0)\n",
    "appProgress"
   ]
  },
  {
   "cell_type": "code",
   "execution_count": null,
   "metadata": {},
   "outputs": [],
   "source": [
    "orderedTasks = ['Initial design discussion/identify possible gaps/approve workarounds/code',\n",
    "'Application Built by App Spec.',\n",
    "'Application Reviewed by SA / App Spec Group.',\n",
    "'Specification Written.',\n",
    "'Reviewed with requirements owner.',\n",
    "'Manually Tested',\n",
    "'Automated UI Tested',\n",
    "'Deployed to tenant if required.',\n",
    "'Gaps created for any code used to work around known limitations. Include this Stencil Version column.',\n",
    "'Internal training video Made (internal, by production team, however with external-facing visuals / demo data)',\n",
    "'Final version of template handed over to marketing and sales on a \"final\" / \"gold\" environment',\n",
    "'One page for website created, added to main list of pathways on website',\n",
    "'Powerpoint presentation created',\n",
    "'Video re-voiced for external usage',\n",
    "'Pricing model / single price defined',\n",
    "'Sales enablement training delivered']\n",
    "#orderedTasks"
   ]
  },
  {
   "cell_type": "code",
   "execution_count": null,
   "metadata": {},
   "outputs": [],
   "source": [
    "appStatus = pd.DataFrame()\n",
    "appStatus['task'] = uniqueTasks\n",
    "\n",
    "for app in apps.name:\n",
    "    taskStatus = []\n",
    "    for task in uniqueTasks:\n",
    "        status = appTasks[(appTasks['task'] == task) & (appTasks['name'] == app) & (appTasks['isDone'])]\n",
    "        #if there is result append status to list\n",
    "        if len(status) > 0 : taskStatus.append('Finished')\n",
    "        else: taskStatus.append('')\n",
    "    appStatus[app] = taskStatus\n",
    "\n",
    "def color_finished(val):\n",
    "    color = 'green' if val == 'Finished' else 'black'\n",
    "    return 'color: %s' % color\n",
    "\n",
    "#appStatus = appStatus.style.applymap(color_finished)\n",
    "appStatus\n",
    "#appStatus.to_clipboard()\n"
   ]
  },
  {
   "cell_type": "code",
   "execution_count": null,
   "metadata": {},
   "outputs": [],
   "source": []
  }
 ],
 "metadata": {
  "kernelspec": {
   "display_name": "Python 3",
   "language": "python",
   "name": "python3"
  },
  "language_info": {
   "codemirror_mode": {
    "name": "ipython",
    "version": 3
   },
   "file_extension": ".py",
   "mimetype": "text/x-python",
   "name": "python",
   "nbconvert_exporter": "python",
   "pygments_lexer": "ipython3",
   "version": "3.5.1"
  }
 },
 "nbformat": 4,
 "nbformat_minor": 2
}
