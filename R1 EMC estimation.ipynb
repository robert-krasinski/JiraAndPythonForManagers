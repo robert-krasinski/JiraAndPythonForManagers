{
 "cells": [
  {
   "cell_type": "code",
   "execution_count": null,
   "metadata": {},
   "outputs": [],
   "source": [
    "from jira import JIRA\n",
    "import matplotlib.pyplot as plt\n",
    "import pandas as pd\n",
    "from numpy import nan\n",
    "import math\n",
    "from IPython.core.interactiveshell import InteractiveShell\n",
    "InteractiveShell.ast_node_interactivity = \"all\"\n",
    "\n",
    "\n"
   ]
  },
  {
   "cell_type": "code",
   "execution_count": null,
   "metadata": {},
   "outputs": [],
   "source": [
    "jira_url = 'https://kainos-evolve.atlassian.net'\n",
    "jira = JIRA(jira_url)"
   ]
  },
  {
   "cell_type": "markdown",
   "metadata": {},
   "source": [
    "# Items for the EMR Cloud team"
   ]
  },
  {
   "cell_type": "code",
   "execution_count": null,
   "metadata": {
    "scrolled": false
   },
   "outputs": [],
   "source": [
    "jql = 'project = ECL and type not in subTaskIssueTypes() and type != epic and fixVersion = R1 and labels = Required_for_production_data and statusCategory != Done and labels != sec_arch'\n",
    "issuesRaw = jira.search_issues(jql)\n",
    "\n",
    "issues = pd.DataFrame()\n",
    "issues['key'] = ''\n",
    "issues['type'] = ''\n",
    "issues['status'] = ''\n",
    "issues['SP'] = 0\n",
    "issues['summary'] = ''\n",
    "\n",
    "#add issues to dataframe\n",
    "for issue in issuesRaw:\n",
    "    descriptionLen = 0\n",
    "    if issue.fields.description : descriptionLen = len(issue.fields.description)\n",
    "\n",
    "    assignee = None\n",
    "    if issue.fields.assignee : assignee = issue.fields.assignee.displayName\n",
    "        \n",
    "    issues = issues.append(\n",
    "        {\n",
    "         'key': issue.key,\n",
    "         'type': issue.fields.issuetype.name,\n",
    "         'status': issue.fields.status.name,\n",
    "         'SP': issue.fields.customfield_10005,\n",
    "         'remainingEffort': issue.fields.customfield_14500,\n",
    "         'summary': issue.fields.summary,\n",
    "         'descriptionLen': descriptionLen,\n",
    "         'assignee': assignee\n",
    "        }, ignore_index=True)\n",
    "\n",
    "#only use remainingEffort if it's defined\n",
    "def setRemainingSP(remainingEffort, SP):\n",
    "    if(remainingEffort != None): return remainingEffort\n",
    "    else: return SP\n",
    "\n",
    "issues['RemainingSP'] = issues.apply(lambda x: setRemainingSP(x['remainingEffort'], x['SP']), axis=1)\n",
    "\n",
    "issues\n"
   ]
  },
  {
   "cell_type": "code",
   "execution_count": null,
   "metadata": {},
   "outputs": [],
   "source": [
    "issues.hist(column='SP', bins=20);"
   ]
  },
  {
   "cell_type": "markdown",
   "metadata": {},
   "source": [
    "# Security architect issues for R1"
   ]
  },
  {
   "cell_type": "code",
   "execution_count": null,
   "metadata": {},
   "outputs": [],
   "source": [
    "jql = 'project = ECL and type not in subTaskIssueTypes() and type != epic and fixVersion = R1 and labels = Required_for_production_data and statusCategory != Done and labels = sec_arch'\n",
    "issuesRaw = jira.search_issues(jql)\n",
    "\n",
    "secIssues = pd.DataFrame()\n",
    "secIssues['key'] = ''\n",
    "secIssues['type'] = ''\n",
    "secIssues['status'] = ''\n",
    "secIssues['SP'] = 0\n",
    "secIssues['summary'] = ''\n",
    "\n",
    "#add issues to dataframe\n",
    "for issue in issuesRaw:\n",
    "    descriptionLen = 0\n",
    "    if issue.fields.description : descriptionLen = len(issue.fields.description)\n",
    "    secIssues = secIssues.append(\n",
    "        {\n",
    "         'key': issue.key,\n",
    "         'type': issue.fields.issuetype.name,\n",
    "         'status': issue.fields.status.name,\n",
    "         'SP': issue.fields.customfield_10005,\n",
    "         'remainingEffort': issue.fields.customfield_14500,\n",
    "         'summary': issue.fields.summary,\n",
    "         'descriptionLen': descriptionLen\n",
    "        }, ignore_index=True)\n",
    "secIssues"
   ]
  },
  {
   "cell_type": "code",
   "execution_count": null,
   "metadata": {},
   "outputs": [],
   "source": [
    "#find all subtasks for given tasks and check if SP sum of subtasks equals SP in task\n",
    "jql = 'project = ECL and type in subTaskIssueTypes() '\n",
    "\n",
    "subtasks = pd.DataFrame()\n",
    "subtasks['key'] = ''\n",
    "subtasks['status'] = ''\n",
    "subtasks['SP'] = 0\n",
    "subtasks['parent'] = ''\n",
    "subtasks['summary'] = ''\n",
    "\n",
    "issuesRaw = jira.search_issues(jql, maxResults=False)\n",
    "for issue in issuesRaw:\n",
    "            subtasks = subtasks.append(\n",
    "                {\n",
    "                 'key': issue.key,\n",
    "                 'status': issue.fields.status.name,\n",
    "                 'SP': issue.fields.customfield_10005,\n",
    "                 'parent': issue.fields.parent.key,\n",
    "                 'summary': issue.fields.summary,\n",
    "                }, ignore_index=True)\n",
    "\n",
    "#subtasks"
   ]
  },
  {
   "cell_type": "markdown",
   "metadata": {},
   "source": [
    "# Parent VS Subtasks"
   ]
  },
  {
   "cell_type": "code",
   "execution_count": null,
   "metadata": {
    "scrolled": false
   },
   "outputs": [],
   "source": [
    "#compare sum of SP in subtasks and in parent issue\n",
    "subtasksAggr = subtasks.groupby(['parent']).agg({'SP':['sum'], 'parent': 'count'}, as_index=False)\n",
    "subtasksAggr.columns = subtasksAggr.columns.droplevel(0)\n",
    "subtasksAggr = subtasksAggr.reset_index()\n",
    "\n",
    "print('Subtasks')\n",
    "subtasksAggr\n",
    "\n",
    "\n",
    "merged_issues = issues.merge(subtasksAggr, left_on='key', right_on='parent', how='left')\n",
    "#show only stories larger than 5SP\n",
    "merged_issues = merged_issues[(merged_issues['SP'] > 5)]\n",
    "merged_issues = merged_issues.sort_values('SP', ascending=False)\n",
    "\n",
    "print('Parent vs subtasks')\n",
    "merged_issues"
   ]
  },
  {
   "cell_type": "markdown",
   "metadata": {},
   "source": [
    "# Items with no descriptions"
   ]
  },
  {
   "cell_type": "code",
   "execution_count": null,
   "metadata": {},
   "outputs": [],
   "source": [
    "noDescriptions = issues[(issues['descriptionLen'] < 10)]\n",
    "noDescriptions\n",
    "#noDescriptions.to_clipboard()"
   ]
  },
  {
   "cell_type": "markdown",
   "metadata": {},
   "source": [
    "# Issues not moved in last 1W"
   ]
  },
  {
   "cell_type": "code",
   "execution_count": null,
   "metadata": {},
   "outputs": [],
   "source": [
    "jql = 'project = ECL and status=\"In Progress\" AND not status changed after -2w'\n",
    "\n",
    "issuesRaw = jira.search_issues(jql)\n",
    "\n",
    "notMovingIssues = pd.DataFrame()\n",
    "\n",
    "#add issues to dataframe\n",
    "for issue in issuesRaw:\n",
    "    descriptionLen = 0\n",
    "    if issue.fields.description : descriptionLen = len(issue.fields.description)\n",
    "    notMovingIssues = notMovingIssues.append(\n",
    "        {\n",
    "         'key': issue.key,\n",
    "         'type': issue.fields.issuetype.name,\n",
    "         'status': issue.fields.status.name,\n",
    "         'SP': issue.fields.customfield_10005,\n",
    "         'remainingEffort': issue.fields.customfield_14500,\n",
    "         'summary': issue.fields.summary,\n",
    "         'updated': issue.fields.updated,\n",
    "         'assignee': issue.fields.assignee\n",
    "            \n",
    "        }, ignore_index=True)\n",
    "\n",
    "print('Issues not moved in last 1W')\n",
    "notMovingIssues"
   ]
  },
  {
   "cell_type": "markdown",
   "metadata": {},
   "source": [
    "# Assigned issues"
   ]
  },
  {
   "cell_type": "code",
   "execution_count": null,
   "metadata": {},
   "outputs": [],
   "source": [
    "jql = 'project = ECL and assignee is not empty and statusCategory != Done'\n",
    "issuesRaw = jira.search_issues(jql, maxResults=False)\n",
    "\n",
    "assignedIssues = pd.DataFrame()\n",
    "\n",
    "\n",
    "#add issues to dataframe\n",
    "for issue in issuesRaw:\n",
    "    descriptionLen = 0\n",
    "    if issue.fields.description : descriptionLen = len(issue.fields.description)\n",
    "\n",
    "    assignee = None\n",
    "    if issue.fields.assignee : assignee = issue.fields.assignee.displayName\n",
    "        \n",
    "    assignedIssues = assignedIssues.append(\n",
    "        {\n",
    "         'key': issue.key,\n",
    "         'type': issue.fields.issuetype.name,\n",
    "         'status': issue.fields.status.name,\n",
    "         'SP': issue.fields.customfield_10005,\n",
    "         'remainingEffort': issue.fields.customfield_14500,\n",
    "         'summary': issue.fields.summary,\n",
    "         'descriptionLen': descriptionLen,\n",
    "         'assignee': assignee\n",
    "        }, ignore_index=True)\n",
    "\n",
    "assignedIssues = assignedIssues.sort_values('assignee', ascending=False)\n",
    "#assignedIssues\n",
    "    \n",
    "t = [('person', ['Nick Friday','Thomas Thornton', 'Andy Thompson', \"Martin O'Neill\", 'Marty Taggart', 'James Thompson', \n",
    "        'Brett Bieker', 'Pawel Mazurkiewicz', 'Anna Rogalska'])]\n",
    "team = pd.DataFrame.from_items(t)\n",
    "\n",
    "teamIssues = team.merge(assignedIssues, left_on='person', right_on='assignee', how='left')\n",
    "teamIssues\n"
   ]
  },
  {
   "cell_type": "markdown",
   "metadata": {},
   "source": [
    "# Time to finish estimations"
   ]
  },
  {
   "cell_type": "code",
   "execution_count": null,
   "metadata": {},
   "outputs": [],
   "source": [
    "#estimated velocity from 3 planned sprints\n",
    "estVelocity = (77+35+32)/3\n",
    "SPSum = issues.SP.sum()\n",
    "weeksToFinishEstVel = math.ceil(SPSum / estVelocity)\n",
    "\n",
    "avgVelocity = (25+6)/2\n",
    "weeksToFinishAvgVel = math.ceil(SPSum / avgVelocity)\n",
    "\n",
    "\n",
    "print('Estimated velocity per sprint (iteration, week): {}'.format(estVelocity))\n",
    "print('Average sprint velocity: {0}'.format(avgVelocity))\n",
    "print('Sum of SP to do: {}'.format(SPSum))\n",
    "print('Sprints (iterations, weeks) to finish (according to est. velocity): {}'.format(weeksToFinishEstVel))\n",
    "print('Sprints (iterations, weeks) to finish (according to avg velocity): {}'.format(weeksToFinishAvgVel))\n"
   ]
  },
  {
   "cell_type": "code",
   "execution_count": null,
   "metadata": {},
   "outputs": [],
   "source": []
  }
 ],
 "metadata": {
  "kernelspec": {
   "display_name": "Python 3",
   "language": "python",
   "name": "python3"
  },
  "language_info": {
   "codemirror_mode": {
    "name": "ipython",
    "version": 3
   },
   "file_extension": ".py",
   "mimetype": "text/x-python",
   "name": "python",
   "nbconvert_exporter": "python",
   "pygments_lexer": "ipython3",
   "version": "3.5.1"
  }
 },
 "nbformat": 4,
 "nbformat_minor": 2
}
