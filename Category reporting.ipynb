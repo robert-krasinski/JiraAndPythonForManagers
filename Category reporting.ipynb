{
 "cells": [
  {
   "cell_type": "code",
   "execution_count": null,
   "metadata": {},
   "outputs": [],
   "source": [
    "from jira import JIRA\n",
    "import matplotlib.pyplot as plt\n",
    "import pandas as pd\n",
    "import numpy as np\n",
    "\n",
    "from IPython.core.interactiveshell import InteractiveShell\n",
    "InteractiveShell.ast_node_interactivity = \"all\"\n",
    "\n",
    "jira_url = 'https://kainos-evolve.atlassian.net'\n",
    "jira = JIRA(jira_url)"
   ]
  },
  {
   "cell_type": "code",
   "execution_count": null,
   "metadata": {},
   "outputs": [],
   "source": [
    "startDate = '2018-01-01'\n",
    "endDate = '2018-02-01'"
   ]
  },
  {
   "cell_type": "code",
   "execution_count": null,
   "metadata": {
    "scrolled": false
   },
   "outputs": [],
   "source": [
    "jql = 'project = vxt and status = Completed AND status changed to Completed during ({}, {}) \\\n",
    " AND type in (bug, \"External Bug\", story)'.format(startDate, endDate)\n",
    "\n",
    "#jql = 'project = vxt and type = bug'\n",
    "\n",
    "jql\n",
    "\n",
    "issuesRaw = jira.search_issues(jql, maxResults = False)\n",
    "\n",
    "issues = pd.DataFrame()\n",
    "issues['key'] = ''\n",
    "issues['category'] = ''\n",
    "issues['type'] = ''\n",
    "issues['team'] = ''\n",
    "issues['SP'] = 0\n",
    "issues['bugEffort'] = ''\n",
    "issues['status'] = ''\n",
    "issues['summary'] = ''\n",
    "issues['month'] = ''\n",
    "\n",
    "for issue in issuesRaw:\n",
    "    try:\n",
    "        bugEffort = issue.fields.customfield_14703\n",
    "    except AttributeError:\n",
    "        bugEffort = np.nan\n",
    "    \n",
    "    try:\n",
    "        team = issue.fields.customfield_14200.value\n",
    "    except AttributeError:\n",
    "        team = np.nan\n",
    "        \n",
    "    try:\n",
    "        category = str(issue.fields.customfield_14709.value)\n",
    "    except AttributeError:\n",
    "        category = 'Not set'\n",
    "    \n",
    "    issues = issues.append(\n",
    "        {\n",
    "         'key': issue.key,\n",
    "         'type': issue.fields.issuetype.name,\n",
    "         'status': issue.fields.status.name,\n",
    "         'category': issue.fields.customfield_14709,\n",
    "         'bugEffort': bugEffort,\n",
    "         'SP' : issue.fields.customfield_10005,\n",
    "         'summary': issue.fields.summary,\n",
    "         'team': team\n",
    "        }, ignore_index=True)\n",
    "        \n",
    "\n",
    "issues['month'] = 'Jan'\n",
    "issues = issues.loc[(issues['team'].isin([\"Gdansk Team 1\", \"Gdansk Team 2\", \"Belfast Team\"]))]\n",
    "issues"
   ]
  },
  {
   "cell_type": "code",
   "execution_count": null,
   "metadata": {},
   "outputs": [],
   "source": [
    "issues.loc[(issues['type'] == 'Bug') & (issues['SP'].isnull()), [\"SP\"]] = issues.bugEffort\n",
    "issues['SP']=issues['SP'].fillna(0)\n",
    "#issues['category']=issues['category'].fillna('Not set')\n",
    "issues['category'] = issues.category.astype(str)\n",
    "issues\n"
   ]
  },
  {
   "cell_type": "code",
   "execution_count": null,
   "metadata": {},
   "outputs": [],
   "source": [
    "#print(issues['type'].dtype)\n",
    "issuesByCategory = issues.groupby(['category']).agg({'SP':'sum'})\n",
    "\n",
    "issuesByCategory\n",
    "#issuesByCategory = issuesByCategory.reset_index()\n",
    "\n"
   ]
  },
  {
   "cell_type": "code",
   "execution_count": null,
   "metadata": {},
   "outputs": [],
   "source": []
  }
 ],
 "metadata": {
  "kernelspec": {
   "display_name": "Python 3",
   "language": "python",
   "name": "python3"
  },
  "language_info": {
   "codemirror_mode": {
    "name": "ipython",
    "version": 3
   },
   "file_extension": ".py",
   "mimetype": "text/x-python",
   "name": "python",
   "nbconvert_exporter": "python",
   "pygments_lexer": "ipython3",
   "version": "3.5.1"
  }
 },
 "nbformat": 4,
 "nbformat_minor": 2
}
