{
 "cells": [
  {
   "cell_type": "markdown",
   "metadata": {},
   "source": [
    "### Reporting days spent on development activity category in given month using Story Points"
   ]
  },
  {
   "cell_type": "code",
   "execution_count": null,
   "metadata": {},
   "outputs": [],
   "source": [
    "from jira import JIRA\n",
    "import matplotlib.pyplot as plt\n",
    "import pandas as pd\n",
    "import numpy as np\n",
    "from dateutil.rrule import rrule, MONTHLY\n",
    "from datetime import datetime\n",
    "import calendar\n",
    "import datetime\n",
    "\n",
    "from IPython.core.interactiveshell import InteractiveShell\n",
    "InteractiveShell.ast_node_interactivity = \"all\"\n",
    "\n",
    "jira_url = 'https://kainos-evolve.atlassian.net'\n",
    "jira = JIRA(jira_url)"
   ]
  },
  {
   "cell_type": "code",
   "execution_count": null,
   "metadata": {},
   "outputs": [],
   "source": [
    "issues = pd.DataFrame()\n",
    "issues['key'] = ''\n",
    "issues['category'] = ''\n",
    "issues['type'] = ''\n",
    "issues['team'] = ''\n",
    "issues['SP'] = ''\n",
    "issues['bugEffort'] = ''\n",
    "issues['status'] = ''\n",
    "issues['summary'] = ''\n",
    "issues['month'] = ''"
   ]
  },
  {
   "cell_type": "code",
   "execution_count": null,
   "metadata": {},
   "outputs": [],
   "source": [
    "year = 2018"
   ]
  },
  {
   "cell_type": "code",
   "execution_count": null,
   "metadata": {
    "scrolled": false
   },
   "outputs": [],
   "source": [
    "# download data for each month of a year defined previously\n",
    "for i in range(1,13):\n",
    "    lastDay = calendar.monthrange(year,i)[1]\n",
    "    #don't query Jira for months in the future\n",
    "    now = datetime.datetime.now()\n",
    "    if i > now.month: break\n",
    "    \n",
    "    jql = 'project = vxt and status = Completed AND status changed to Completed during ({}-{}-1, {}-{}-{}) \\\n",
    " AND type in (bug, \"External Bug\", story)'.format(year, i, year, i, lastDay)\n",
    "\n",
    "    issuesRaw = jira.search_issues(jql, maxResults = False)\n",
    "    jql\n",
    "    for issue in issuesRaw:\n",
    "\n",
    "        try:\n",
    "            bugEffort = issue.fields.customfield_14703\n",
    "        except AttributeError:\n",
    "            bugEffort = np.nan\n",
    "\n",
    "        try:\n",
    "            team = str(issue.fields.customfield_14200.value)\n",
    "        except AttributeError:\n",
    "            team = np.nan\n",
    "\n",
    "        try:\n",
    "            category = str(issue.fields.customfield_14709.value)\n",
    "        except AttributeError:\n",
    "            category = 'Not set'\n",
    "\n",
    "        issues = issues.append(\n",
    "            {\n",
    "             'key': issue.key,\n",
    "             'type': issue.fields.issuetype.name,\n",
    "             'status': issue.fields.status.name,\n",
    "             'category': issue.fields.customfield_14709,\n",
    "             'bugEffort': bugEffort,\n",
    "             'SP' : issue.fields.customfield_10005,\n",
    "             'summary': issue.fields.summary,\n",
    "             'team': team,\n",
    "             'month': i\n",
    "            }, ignore_index=True)\n",
    "\n"
   ]
  },
  {
   "cell_type": "code",
   "execution_count": null,
   "metadata": {
    "scrolled": false
   },
   "outputs": [],
   "source": [
    "#use bug effort if SP is empty for bug type issues\n",
    "issues.loc[(issues['type'] == 'Bug') & (issues['SP'].isnull()), [\"SP\"]] = issues.bugEffort\n",
    "\n",
    "#filter teams\n",
    "issues = issues.loc[(issues['team'].isin([\"Gdansk Team 1\", \"Gdansk Team 2\", \"Belfast Team\"]))]\n"
   ]
  },
  {
   "cell_type": "code",
   "execution_count": null,
   "metadata": {},
   "outputs": [],
   "source": [
    "issues['SP']=issues['SP'].fillna(0)\n",
    "\n",
    "'not estimated issues or issues with zero SP'\n",
    "notEstimated = issues.loc[(issues['type'] == 'Story') & (issues['SP'] == 0)]\n",
    "notEstimated\n",
    "\n",
    "\n",
    "#issues['category']=issues['category'].fillna('Not set')\n",
    "issues['category'] = issues.category.astype(str)\n",
    "\n"
   ]
  },
  {
   "cell_type": "code",
   "execution_count": null,
   "metadata": {},
   "outputs": [],
   "source": [
    "#group by by month and category and sum SP\n",
    "issuesByCategory = issues.groupby(['month', 'category']).agg({'SP':'sum'})\n",
    "\n",
    "#add column with SP % per month\n",
    "issuesByCategory['SPPerc'] = issuesByCategory.groupby(level=[0]).apply(lambda x: x / float(x.sum()))\n",
    "#reindexing needed to relate month to each row \n",
    "issuesByCategory = issuesByCategory.reset_index()\n",
    "\n",
    "#days from Kimble used for calculations\n",
    "monthDevDays = [100, 100]\n",
    "\n",
    "#first add days from monthDevDays for specified month\n",
    "issuesByCategory['Days'] = issuesByCategory['month'].apply(lambda x: monthDevDays[x-1])\n",
    "#then multiply by % of month spent on category\n",
    "issuesByCategory['Days'] = issuesByCategory['Days'] * issuesByCategory['SPPerc']\n",
    "#round values\n",
    "issuesByCategory = issuesByCategory.round({'SPPerc': 2, 'Days':2})\n",
    "\n",
    "#\n",
    "issuesByCategory\n"
   ]
  }
 ],
 "metadata": {
  "kernelspec": {
   "display_name": "Python 3",
   "language": "python",
   "name": "python3"
  },
  "language_info": {
   "codemirror_mode": {
    "name": "ipython",
    "version": 3
   },
   "file_extension": ".py",
   "mimetype": "text/x-python",
   "name": "python",
   "nbconvert_exporter": "python",
   "pygments_lexer": "ipython3",
   "version": "3.5.1"
  }
 },
 "nbformat": 4,
 "nbformat_minor": 2
}
