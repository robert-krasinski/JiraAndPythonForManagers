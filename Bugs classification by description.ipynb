{
 "cells": [
  {
   "cell_type": "code",
   "execution_count": 2,
   "metadata": {},
   "outputs": [
    {
     "ename": "SyntaxError",
     "evalue": "invalid syntax (<ipython-input-2-c6501ff15987>, line 33)",
     "output_type": "error",
     "traceback": [
      "\u001b[0;36m  File \u001b[0;32m\"<ipython-input-2-c6501ff15987>\"\u001b[0;36m, line \u001b[0;32m33\u001b[0m\n\u001b[0;31m    print(\"\\nCluster %d:\" % i, end='')\u001b[0m\n\u001b[0m                                  ^\u001b[0m\n\u001b[0;31mSyntaxError\u001b[0m\u001b[0;31m:\u001b[0m invalid syntax\n"
     ]
    }
   ],
   "source": [
    "import pandas as pd\n",
    "from sklearn.feature_extraction.text import TfidfVectorizer\n",
    "from sklearn.pipeline import Pipeline\n",
    "from sklearn.cluster import KMeans\n",
    "from time import time\n",
    "from sklearn import metrics\n",
    "\n",
    "issues = pd.read_pickle('/Users/robertk/PycharmProjects/EvolveAnalysis/lastYearBugs.pickle')\n",
    "issues  = issues.replace({'does': ''}, regex=True)\n",
    "#issues = issues['summary'].str.replace('does' , '')\n",
    "\n",
    "\n",
    "vectorizer = TfidfVectorizer(stop_words='english', min_df = 10)\n",
    "\n",
    "X = vectorizer.fit_transform(issues.summary)\n",
    "\n",
    "\n",
    "n_clust = 50\n",
    "km = KMeans(n_clusters=n_clust, init='k-means++', max_iter=100, n_init=10,\n",
    "                verbose=True)\n",
    "\n",
    "print(\"Clustering sparse data with %s\" % km)\n",
    "t0 = time()\n",
    "km.fit(X)\n",
    "print(\"done in %0.3fs\" % (time() - t0))\n",
    "print()\n",
    "\n",
    "order_centroids = km.cluster_centers_.argsort()[:, ::-1]\n",
    "\n",
    "terms = vectorizer.get_feature_names()\n",
    "\n",
    "for i in range(n_clust):\n",
    "    print(\"\\nCluster %d:\" % i, end='')\n",
    "    for ind in order_centroids[i, :10]:\n",
    "        print(' %s' % terms[ind], end='')\n",
    "print('\\n')\n",
    "se = pd.Series(km.labels_.tolist())\n",
    "\n",
    "\n",
    "issues['cluster'] = se.values\n",
    "issues.reset_index()\n",
    "print(issues.columns)\n",
    "\n",
    "\n",
    "\n",
    "#aggrIssues = aggrIssues.reset_index()\n",
    "\n",
    "#print(aggrIssues.loc[aggrIssues[1].idxmax()])\n",
    "#label4Issues = issues.loc[(issues.label == 4)]\n",
    "#print(label4Issues)\n",
    "\n",
    "\n",
    "\n",
    "\n",
    "\n"
   ]
  },
  {
   "cell_type": "code",
   "execution_count": 1,
   "metadata": {},
   "outputs": [
    {
     "ename": "NameError",
     "evalue": "name 'issues' is not defined",
     "output_type": "error",
     "traceback": [
      "\u001b[0;31m---------------------------------------------------------------------------\u001b[0m",
      "\u001b[0;31mNameError\u001b[0m                                 Traceback (most recent call last)",
      "\u001b[0;32m<ipython-input-1-623999f3afbc>\u001b[0m in \u001b[0;36m<module>\u001b[0;34m()\u001b[0m\n\u001b[0;32m----> 1\u001b[0;31m \u001b[0maggrIssues\u001b[0m \u001b[0;34m=\u001b[0m \u001b[0missues\u001b[0m\u001b[0;34m.\u001b[0m\u001b[0mgroupby\u001b[0m\u001b[0;34m(\u001b[0m\u001b[0;34m[\u001b[0m\u001b[0;34m'cluster'\u001b[0m\u001b[0;34m]\u001b[0m\u001b[0;34m)\u001b[0m\u001b[0;34m.\u001b[0m\u001b[0magg\u001b[0m\u001b[0;34m(\u001b[0m\u001b[0;34m{\u001b[0m\u001b[0;34m'cluster'\u001b[0m\u001b[0;34m:\u001b[0m\u001b[0;34m'count'\u001b[0m\u001b[0;34m}\u001b[0m\u001b[0;34m,\u001b[0m \u001b[0mas_index\u001b[0m\u001b[0;34m=\u001b[0m\u001b[0mFalse\u001b[0m\u001b[0;34m)\u001b[0m\u001b[0;34m\u001b[0m\u001b[0m\n\u001b[0m\u001b[1;32m      2\u001b[0m \u001b[0;31m#aggrIssues = aggrIssues.reset_index()\u001b[0m\u001b[0;34m\u001b[0m\u001b[0;34m\u001b[0m\u001b[0m\n\u001b[1;32m      3\u001b[0m \u001b[0;31m#aggrIssues.columns = ['label', 'count']\u001b[0m\u001b[0;34m\u001b[0m\u001b[0;34m\u001b[0m\u001b[0m\n\u001b[1;32m      4\u001b[0m \u001b[0;32mprint\u001b[0m\u001b[0;34m(\u001b[0m\u001b[0maggrIssues\u001b[0m\u001b[0;34m)\u001b[0m\u001b[0;34m\u001b[0m\u001b[0m\n",
      "\u001b[0;31mNameError\u001b[0m: name 'issues' is not defined"
     ]
    }
   ],
   "source": [
    "aggrIssues = issues.groupby(['cluster']).agg({'cluster':'count'}, as_index=False)\n",
    "#aggrIssues = aggrIssues.reset_index()\n",
    "#aggrIssues.columns = ['label', 'count']\n",
    "print(aggrIssues)"
   ]
  },
  {
   "cell_type": "code",
   "execution_count": null,
   "metadata": {},
   "outputs": [],
   "source": []
  }
 ],
 "metadata": {
  "kernelspec": {
   "display_name": "Python 2",
   "language": "python",
   "name": "python2"
  },
  "language_info": {
   "codemirror_mode": {
    "name": "ipython",
    "version": 2
   },
   "file_extension": ".py",
   "mimetype": "text/x-python",
   "name": "python",
   "nbconvert_exporter": "python",
   "pygments_lexer": "ipython2",
   "version": "2.7.11"
  }
 },
 "nbformat": 4,
 "nbformat_minor": 2
}
