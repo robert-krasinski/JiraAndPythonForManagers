{
 "cells": [
  {
   "cell_type": "markdown",
   "metadata": {},
   "source": [
    "# Lists changes in issues linked to specified epics"
   ]
  },
  {
   "cell_type": "markdown",
   "metadata": {},
   "source": [
    "Specify epics"
   ]
  },
  {
   "cell_type": "code",
   "execution_count": null,
   "metadata": {},
   "outputs": [],
   "source": [
    "epic = ['VXT-3080', 'VXT-3952']"
   ]
  },
  {
   "cell_type": "code",
   "execution_count": null,
   "metadata": {},
   "outputs": [],
   "source": [
    "import pandas as pd\n",
    "from jira import JIRA\n",
    "\n",
    "#store credentials in ~/.rcnet file\n",
    "jira = JIRA('https://kainos-evolve.atlassian.net')\n",
    "jql = '\"Epic Link\" in (' + \", \".join(epic) + ')'\n",
    "\n",
    "print(jql)\n",
    "epicIssues = jira.search_issues(jql)"
   ]
  },
  {
   "cell_type": "code",
   "execution_count": null,
   "metadata": {
    "scrolled": false
   },
   "outputs": [],
   "source": [
    "from pandas.tseries.offsets import BDay\n",
    "\n",
    "changes = pd.DataFrame()\n",
    "changes['epic'] = ''\n",
    "changes['key'] = ''\n",
    "changes['summary'] = ''\n",
    "changes['updateDate'] = ''\n",
    "changes['field'] = ''\n",
    "changes['oldValue'] = ''\n",
    "changes['newValue'] = ''\n",
    "changes['author'] = ''\n",
    "\n",
    "for issue in epicIssues:\n",
    "    issue = jira.issue(issue.key, expand='changelog')\n",
    "    changelog = issue.changelog\n",
    "    for history in changelog.histories:\n",
    "        for item in history.items:\n",
    "            try:\n",
    "                author = history.author.name\n",
    "            except AttributeError:\n",
    "                author = 'NotFound'\n",
    "                \n",
    "            changes = changes.append(\n",
    "                {'key': issue.key,\n",
    "                 'updateDate': history.created,\n",
    "                 'author': author,\n",
    "                 'field': item.field,\n",
    "                 'oldValue': item.fromString,\n",
    "                 'newValue': item.toString,\n",
    "                 'summary': issue.fields.summary,\n",
    "                 'epic': issue.fields.customfield_10008\n",
    "                 }, ignore_index=True)\n",
    "\n",
    "\n",
    "#sort values\n",
    "changes.sort_values([\"key\", \"updateDate\",], inplace=True)\n",
    "\n",
    "#show only items from last 5 business days\n",
    "changes = changes.loc[(pd.to_datetime(changes['updateDate']) > (pd.to_datetime('today') - BDay(5)))]\n",
    "\n",
    "#don't show changes in following fields\n",
    "changes = changes.loc[~(changes['field'].isin(['status', 'assignee', 'Sprint', 'reporter']))]\n",
    "changes"
   ]
  },
  {
   "cell_type": "code",
   "execution_count": null,
   "metadata": {},
   "outputs": [],
   "source": [
    "\n",
    "\n"
   ]
  }
 ],
 "metadata": {
  "kernelspec": {
   "display_name": "Python 3",
   "language": "python",
   "name": "python3"
  },
  "language_info": {
   "codemirror_mode": {
    "name": "ipython",
    "version": 3
   },
   "file_extension": ".py",
   "mimetype": "text/x-python",
   "name": "python",
   "nbconvert_exporter": "python",
   "pygments_lexer": "ipython3",
   "version": "3.5.1"
  }
 },
 "nbformat": 4,
 "nbformat_minor": 2
}
