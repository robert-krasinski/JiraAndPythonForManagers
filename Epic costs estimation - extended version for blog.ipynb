{
 "cells": [
  {
   "cell_type": "markdown",
   "metadata": {},
   "source": [
    "# Epic remaining cost estimation based on team velocity"
   ]
  },
  {
   "cell_type": "markdown",
   "metadata": {},
   "source": [
    "## Tools\n",
    "This post was entirely created using Jupyter notebook - if you don't know it I'd highly recommend to install it on your machine: http://jupyter.readthedocs.io/en/latest/install.html  Then you could reproduce this example with your Jira data.\n",
    "\n",
    "This and other ideas on how to use Python with Jira data are available on my GitHub: https://github.com/robert-krasinski/JiraAndPythonForManagers\n",
    "\n",
    "## Rationale\n",
    "Feature cost estimation is very important information in development process. It should be always present during feature prioritization excercises. Using the estimated cost and projected profits should give you information which stories are most profitable and affect priorities for coming sprints.\n",
    "\n",
    "In this approach I'm not taking into consideration costs of not implementing particular features. In some situations those will be much higher than development costs. For example not fixing security bug may cause data leak and legal costs or not improving performance of the service can increase infrastructure costs.\n",
    "\n",
    "## Calculations\n",
    "\n",
    "I'd like to show you how quickly estimate cost for all open (not Completed, Rejected) epics in the project. There are few assumptions that are made to ensure that calculations will be possible:\n",
    "* epics are divided into stories that are linked to epics in Jira\n",
    "* stories are estimated in SP\n",
    "* we know the maximum, minimum and average velocity of the team. I'll show later how to obtain it from Jira report.\n",
    "* we know what's the sprint development cost for entire team\n",
    "* project is developed by one development team.\n",
    "\n",
    "The model estimates only not completed stories that are assigned to epics in Jira. \n",
    "In this approach bugs are not estimated in sprints and they're affecting calculations only trough team velocity. More bugs - velocity is lower and the cost of the epic will be higher and vice versa.\n",
    "\n",
    "I marked green sections that should be modified by when executing on different data source (e.g. Jira url, velocity)."
   ]
  },
  {
   "cell_type": "markdown",
   "metadata": {},
   "source": [
    "<div class=\"alert alert-block alert-success\">\n",
    "Set Jira url\n",
    "</div>"
   ]
  },
  {
   "cell_type": "code",
   "execution_count": null,
   "metadata": {},
   "outputs": [],
   "source": [
    "jira_url = 'https://kainos-evolve.atlassian.net'"
   ]
  },
  {
   "cell_type": "markdown",
   "metadata": {},
   "source": [
    "Code below loads all open epics from Jira using Python API"
   ]
  },
  {
   "cell_type": "code",
   "execution_count": null,
   "metadata": {},
   "outputs": [],
   "source": [
    "import pandas as pd\n",
    "from jira import JIRA\n",
    "jira = JIRA(jira_url)\n",
    "\n",
    "#load all open epics \n",
    "jql = 'project=VXT and type=epic and status not in (Completed, Rejected)'\n",
    "\n",
    "epicsRaw = jira.search_issues(jql)\n",
    "\n",
    "epics = pd.DataFrame()\n",
    "epics['version'] = ''\n",
    "epics['key'] = ''\n",
    "epics['type'] = ''\n",
    "epics['status'] = ''\n",
    "epics['summary'] = ''\n",
    "\n",
    "#add epics to dataframe\n",
    "for issue in epicsRaw:\n",
    "    #issue may have many versions - in this approach, one version per issue is recommended\n",
    "    for fixVersion in issue.fields.fixVersions:\n",
    "        epics = epics.append(\n",
    "            {'version': fixVersion.name, \n",
    "             'key': issue.key,\n",
    "             'type': issue.fields.issuetype.name,\n",
    "             'status': issue.fields.status.name,\n",
    "             'summary': issue.fields.summary,\n",
    "            }, ignore_index=True)\n",
    "            \n",
    "epics"
   ]
  },
  {
   "cell_type": "markdown",
   "metadata": {},
   "source": [
    "When we have all epics it's time to find all related issues."
   ]
  },
  {
   "cell_type": "code",
   "execution_count": null,
   "metadata": {},
   "outputs": [],
   "source": [
    "epicKeys = epics['key'].tolist()\n",
    "jql = '\"Epic Link\" in (' + \", \".join(epicKeys) + ')'\n",
    "jql"
   ]
  },
  {
   "cell_type": "markdown",
   "metadata": {},
   "source": [
    "All issues related to epics are loaded from Jira in one batch and added to Pandas dataframe."
   ]
  },
  {
   "cell_type": "code",
   "execution_count": null,
   "metadata": {},
   "outputs": [],
   "source": [
    "issuesRaw = jira.search_issues(jql)\n",
    "\n",
    "issues = pd.DataFrame()\n",
    "\n",
    "issues['epic'] = ''\n",
    "issues['key'] = ''\n",
    "issues['type'] = ''\n",
    "issues['status'] = ''\n",
    "issues['SP'] = 0\n",
    "issues['summary'] = ''\n",
    "\n",
    "for issue in issuesRaw:\n",
    "    issues = issues.append(\n",
    "        {\n",
    "         'key': issue.key,\n",
    "         'type': issue.fields.issuetype.name,\n",
    "         'status': issue.fields.status.name,\n",
    "         'SP': issue.fields.customfield_10005,\n",
    "         'summary': issue.fields.summary,\n",
    "         'team' : str(issue.fields.customfield_14200),\n",
    "         'epic': issue.fields.customfield_10008\n",
    "        }, ignore_index=True)\n",
    "\n"
   ]
  },
  {
   "cell_type": "markdown",
   "metadata": {},
   "source": [
    "Stories that are rejected or completed should not be included in calculations."
   ]
  },
  {
   "cell_type": "code",
   "execution_count": null,
   "metadata": {},
   "outputs": [],
   "source": [
    "#only open issues are calculated\n",
    "issues = issues.loc[~(issues['status'].isin(['Completed', 'Rejected']))]\n",
    "issues.sort_values([\"epic\", 'type', 'status'], inplace=True)"
   ]
  },
  {
   "cell_type": "markdown",
   "metadata": {},
   "source": [
    "Cost can be calculated only for epics that are estimated in story points in 100%. To check the estimation factor we need to count estimated and not estimated stories.\n",
    "\n",
    "In this approach bugs are not estimated - their affect the velocity directly. Fixing bugs in the sprint means that a team is not delivering the features - the velocity is lower. If you're planning reducing tech debt in near future you may like to reduce minimum velocity to reflect that in cost estimations."
   ]
  },
  {
   "cell_type": "code",
   "execution_count": null,
   "metadata": {},
   "outputs": [],
   "source": [
    "#bugs are not required to be estimated\n",
    "issues['emptySP'] = ((issues.type == 'Story') & issues.SP.isnull())\n",
    "issues['notEmptySP'] = (~issues.emptySP)\n",
    "\n",
    "issues"
   ]
  },
  {
   "cell_type": "code",
   "execution_count": null,
   "metadata": {},
   "outputs": [],
   "source": [
    "import numpy as np\n",
    "#in python we can treat True as 1 and False as 0 so simple sum suffice to calculate count of \n",
    "#estimated and not estimated issues in each epic\n",
    "aggrIssues = issues.groupby(['epic']).agg({'emptySP':'sum','notEmptySP':'sum', 'SP': 'sum'})\n",
    "aggrIssues['estimatedPerc'] = np.ceil(aggrIssues.notEmptySP / (aggrIssues.notEmptySP + aggrIssues.emptySP) * 100)\n",
    "aggrIssues = aggrIssues.reset_index()\n",
    "\n",
    "aggrIssues"
   ]
  },
  {
   "cell_type": "markdown",
   "metadata": {},
   "source": [
    "<div class=\"alert alert-block alert-success\">\n",
    "Set maximum, average and minimum estimated velocity of the team and team sprint costs\n",
    "</div>"
   ]
  },
  {
   "cell_type": "code",
   "execution_count": null,
   "metadata": {},
   "outputs": [],
   "source": [
    "minVelocity = 10\n",
    "avgVelocity = 15\n",
    "maxVelocity = 20\n",
    "#assuming that a team have 4 developers and each one salary is 1000 / week and we have 2W sprints\n",
    "sprintCosts = 4 * 1000 * 2"
   ]
  },
  {
   "cell_type": "markdown",
   "metadata": {},
   "source": [
    "Below are estimated cost calculations. Information that we can't estimate epic because insufficient data in related stories might also be useful."
   ]
  },
  {
   "cell_type": "code",
   "execution_count": null,
   "metadata": {},
   "outputs": [],
   "source": [
    "del aggrIssues['emptySP']\n",
    "del aggrIssues['notEmptySP']\n",
    "\n",
    "#if the epic's stories are not estimated\n",
    "aggrIssues['minCost'] = 'Data not sufficient to estimate'\n",
    "aggrIssues['avgCost'] = 'Data not sufficient to estimate'\n",
    "aggrIssues['maxCost'] = 'Data not sufficient to estimate'\n",
    "\n",
    "#only calculate costs for fully estimated epics\n",
    "aggrIssues.loc[((aggrIssues['estimatedPerc'] == 100)), ['minCost']] = np.ceil(aggrIssues.SP / maxVelocity * sprintCosts)\n",
    "aggrIssues.loc[((aggrIssues['estimatedPerc'] == 100)), ['avgCost']] = np.ceil(aggrIssues.SP / avgVelocity * sprintCosts)\n",
    "aggrIssues.loc[((aggrIssues['estimatedPerc'] == 100)), ['maxCost']] = np.ceil(aggrIssues.SP / minVelocity * sprintCosts)\n",
    "\n",
    "#aggrIssues"
   ]
  },
  {
   "cell_type": "markdown",
   "metadata": {},
   "source": [
    "For presentation purposes it's worth to add descriptions to epics."
   ]
  },
  {
   "cell_type": "code",
   "execution_count": null,
   "metadata": {},
   "outputs": [],
   "source": [
    "#load epic descriptions from Jira\n",
    "epicNames = []\n",
    "for epicKey in aggrIssues['epic']:\n",
    "    epic = jira.issue(epicKey)\n",
    "    epicNames.append(epic.fields.summary)\n",
    "    \n",
    "epicNames = pd.Series(epicNames)\n",
    "aggrIssues['summary'] = epicNames.values\n",
    "\n",
    "#change column order\n",
    "cols = ['epic', 'summary', 'SP', 'estimatedPerc', 'minCost', 'avgCost', 'maxCost']\n",
    "aggrIssues = aggrIssues[cols]\n",
    "\n",
    "aggrIssues"
   ]
  },
  {
   "cell_type": "markdown",
   "metadata": {},
   "source": [
    "Above table with cost estimations. If you're interested in more ideas on how to use data you already have in Jira for making smart decisions in your project please visit: https://github.com/robert-krasinski/JiraAndPythonForManagers"
   ]
  }
 ],
 "metadata": {
  "kernelspec": {
   "display_name": "Python 3",
   "language": "python",
   "name": "python3"
  },
  "language_info": {
   "codemirror_mode": {
    "name": "ipython",
    "version": 3
   },
   "file_extension": ".py",
   "mimetype": "text/x-python",
   "name": "python",
   "nbconvert_exporter": "python",
   "pygments_lexer": "ipython3",
   "version": "3.5.1"
  }
 },
 "nbformat": 4,
 "nbformat_minor": 2
}
