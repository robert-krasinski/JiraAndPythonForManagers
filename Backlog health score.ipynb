{
 "cells": [
  {
   "cell_type": "markdown",
   "metadata": {},
   "source": [
    "Quantified backlog state = Sum(Rule \\* Weight \\* 10)\n",
    "\n",
    "This will give the team clear information about backlog state score in a number from 1-10 (1 - worst, 10 - best )\n",
    "Weights need to sum up to 100%\n",
    "\n"
   ]
  },
  {
   "cell_type": "code",
   "execution_count": null,
   "metadata": {},
   "outputs": [],
   "source": [
    "from jira import JIRA\n",
    "import pandas as pd\n",
    "import re\n",
    "from numpy import nan\n",
    "from IPython.core.interactiveshell import InteractiveShell\n",
    "InteractiveShell.ast_node_interactivity = \"all\""
   ]
  },
  {
   "cell_type": "code",
   "execution_count": null,
   "metadata": {},
   "outputs": [],
   "source": [
    "\n",
    "\n",
    "#to show all rules descriptions\n",
    "pd.set_option('max_colwidth',200)\n",
    "\n",
    "rules = pd.DataFrame()\n",
    "rules['rule'] = ''\n",
    "rules['weight'] = 0\n",
    "rules['value'] = 0\n",
    "\n",
    "rules['rule'] = ['In next 2 sprints there are items in Backlog state that SP sum is greater than estimated velocity, there are no items assigned to sprint that are not in Backlog state - Y/N',\n",
    "                'Planned next 3 versions (all items estimated and in Backlog state) - Y/N',\n",
    "                '% Should, Must, Critical items that are estimated regardless of status',\n",
    "                '% of key milestone items estimated and in Backlog status']\n",
    "rules['weight'] = [0.4, 0.25, 0.25, 0.1]\n",
    "\n",
    "rules"
   ]
  },
  {
   "cell_type": "markdown",
   "metadata": {},
   "source": [
    "Rules sum should be 1"
   ]
  },
  {
   "cell_type": "code",
   "execution_count": null,
   "metadata": {},
   "outputs": [],
   "source": [
    "sum(rules.weight)"
   ]
  },
  {
   "cell_type": "markdown",
   "metadata": {},
   "source": [
    "<div class=\"alert alert-block alert-success\">\n",
    "Set up nextSprint, currentVersion, nextVersion values.\n",
    "\n",
    "They can be loaded automatically from Jira too.\n",
    "</div>"
   ]
  },
  {
   "cell_type": "code",
   "execution_count": null,
   "metadata": {},
   "outputs": [],
   "source": [
    "nextSprints = ['IC - #4 20180219 - 1.13', 'IC - #5 20180305 - 1.14']\n",
    "\n",
    "#velocity used to check if sprints are planned correctly\n",
    "estimatedVelocity = 13\n",
    "\n",
    "nextVersions = ['1.12', '1.13', '1.14', '1.15', '1.16']\n",
    "milestones = ['Frimley MVP']"
   ]
  },
  {
   "cell_type": "code",
   "execution_count": null,
   "metadata": {},
   "outputs": [],
   "source": [
    "\n",
    "jira_url = 'https://kainos-evolve.atlassian.net'\n",
    "jira = JIRA(jira_url)"
   ]
  },
  {
   "cell_type": "code",
   "execution_count": null,
   "metadata": {},
   "outputs": [],
   "source": [
    "#rule 0\n",
    "jql = 'sprint in (\"{}\") and status = Backlog and type not in subTaskIssueTypes()'.format('\", \"'.join(nextSprints))\n",
    "jql\n",
    "\n",
    "issuesRaw = jira.search_issues(jql)\n",
    "\n",
    "issues = pd.DataFrame()\n",
    "issues['key'] = ''\n",
    "issues['sprint'] = ''\n",
    "issues['SP'] = ''\n",
    "issues['type'] = ''\n",
    "issues['status'] = ''\n",
    "issues['summary'] = ''\n",
    "\n",
    "for issue in issuesRaw:\n",
    "    for rawSprint in issue.fields.customfield_10007:\n",
    "        #unfortunately sprint information is encoded and regex is needed\n",
    "        matches = re.search('name=(.*?),', rawSprint)\n",
    "        issues = issues.append(\n",
    "            {\n",
    "             'key': issue.key,\n",
    "             'type': issue.fields.issuetype.name,\n",
    "             'status': issue.fields.status.name,\n",
    "             'SP' : issue.fields.customfield_10005,\n",
    "             'summary': issue.fields.summary,\n",
    "             'sprint' : matches.group(1)\n",
    "            }, ignore_index=True)\n",
    "\n",
    "issues.fillna(value=nan, inplace=True)\n",
    "#issues.fillna(0, inplace=True)\n",
    "issues\n",
    "\n",
    "sprints = issues.groupby(['sprint']).agg({'SP':'sum'})\n",
    "sprints = sprints.loc[(sprints['SP'] >= estimatedVelocity)]\n",
    "sprints\n",
    "rule_value = (len(sprints) == 2)\n",
    "rules.at[0, 'value'] = int(rule_value)"
   ]
  },
  {
   "cell_type": "code",
   "execution_count": null,
   "metadata": {},
   "outputs": [],
   "source": [
    "#rule 1 Planned next 3 versions (all items estimated and in Backlog state) - Y/N\n",
    "jql = 'fixVersion in (\"{}\") and status = Backlog and type not in subTaskIssueTypes()'.format('\", \"'.join(nextVersions))\n",
    "jql\n",
    "\n",
    "issuesRaw = jira.search_issues(jql)\n",
    "\n",
    "issues = pd.DataFrame()\n",
    "issues['key'] = ''\n",
    "issues['version'] = ''\n",
    "issues['SP'] = ''\n",
    "issues['type'] = ''\n",
    "issues['status'] = ''\n",
    "issues['summary'] = ''\n",
    "\n",
    "#add issues to dataframe\n",
    "for issue in issuesRaw:\n",
    "    #issue may have many versions - in this approach, one version per issue is recommended\n",
    "    for fixVersion in issue.fields.fixVersions:\n",
    "        if(fixVersion.name in nextVersions):\n",
    "            issues = issues.append(\n",
    "                {'version': fixVersion.name, \n",
    "                 'key': issue.key,\n",
    "                 'type': issue.fields.issuetype.name,\n",
    "                 'status': issue.fields.status.name,\n",
    "                 'SP': issue.fields.customfield_10005,\n",
    "                 'summary': issue.fields.summary,\n",
    "                 'team' : str(issue.fields.customfield_14200),\n",
    "                }, ignore_index=True)\n",
    "\n",
    "\n",
    "issues['isEstimated'] = False\n",
    "issues.loc[(issues['type'] == 'Bug'), ['isEstimated']] = True\n",
    "issues.loc[(issues['type'] != 'Bug') & ~(issues['SP'].isnull()), ['isEstimated']] = True\n",
    "issues.sort_values(\"version\", inplace=True)\n",
    "issues\n",
    "\n",
    "print('Issues in versions')\n",
    "issuesInVersion = issues.groupby(['version']).agg({'key':'count'})\n",
    "issuesInVersion.columns = ['count']\n",
    "issuesInVersion = issuesInVersion.reset_index()\n",
    "issuesInVersion\n",
    "\n",
    "print('Not estimated issues in versions')\n",
    "notEstimatedIssuesInVersion = issues.loc[~(issues['isEstimated'])].groupby(['version']).agg({'key':'count'})\n",
    "notEstimatedIssuesInVersion.columns = ['count']\n",
    "notEstimatedIssuesInVersion = notEstimatedIssuesInVersion.reset_index()\n",
    "notEstimatedIssuesInVersion\n",
    "\n",
    "allEstimated = True\n",
    "\n",
    "for version in nextVersions:\n",
    "    itemsCount = len(issuesInVersion.loc[(issuesInVersion['version'] == version)])\n",
    "    notEstimatedItemsCount = len(notEstimatedIssuesInVersion.loc[(notEstimatedIssuesInVersion['version'] == version)])\n",
    "    allEstimated = itemsCount > 0 and notEstimatedItemsCount == 0\n",
    "\n",
    "rules.at[1, 'value'] = int(allEstimated)"
   ]
  },
  {
   "cell_type": "code",
   "execution_count": null,
   "metadata": {},
   "outputs": [],
   "source": [
    "rules"
   ]
  },
  {
   "cell_type": "code",
   "execution_count": null,
   "metadata": {},
   "outputs": [],
   "source": []
  }
 ],
 "metadata": {
  "kernelspec": {
   "display_name": "Python 3",
   "language": "python",
   "name": "python3"
  },
  "language_info": {
   "codemirror_mode": {
    "name": "ipython",
    "version": 3
   },
   "file_extension": ".py",
   "mimetype": "text/x-python",
   "name": "python",
   "nbconvert_exporter": "python",
   "pygments_lexer": "ipython3",
   "version": "3.5.1"
  }
 },
 "nbformat": 4,
 "nbformat_minor": 2
}
